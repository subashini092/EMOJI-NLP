{
  "nbformat": 4,
  "nbformat_minor": 0,
  "metadata": {
    "colab": {
      "provenance": [],
      "authorship_tag": "ABX9TyNjDAyuJykvhd4XGwqunpEZ",
      "include_colab_link": true
    },
    "kernelspec": {
      "name": "python3",
      "display_name": "Python 3"
    },
    "language_info": {
      "name": "python"
    }
  },
  "cells": [
    {
      "cell_type": "markdown",
      "metadata": {
        "id": "view-in-github",
        "colab_type": "text"
      },
      "source": [
        "<a href=\"https://colab.research.google.com/github/subashini092/EMOJI-NLP/blob/main/EMOJI_NLP.ipynb\" target=\"_parent\"><img src=\"https://colab.research.google.com/assets/colab-badge.svg\" alt=\"Open In Colab\"/></a>"
      ]
    },
    {
      "cell_type": "code",
      "execution_count": 12,
      "metadata": {
        "colab": {
          "base_uri": "https://localhost:8080/"
        },
        "id": "Zo0l_EOZv9aE",
        "outputId": "375315a6-e9e6-42b3-9ee0-40765166043d"
      },
      "outputs": [
        {
          "output_type": "stream",
          "name": "stdout",
          "text": [
            "Requirement already satisfied: emot in /usr/local/lib/python3.11/dist-packages (3.1)\n"
          ]
        }
      ],
      "source": [
        "#installing emot library\n",
        "!pip install emot"
      ]
    },
    {
      "cell_type": "code",
      "source": [
        "text1 = \"What are you saying 😂. Iam the boss 😎, and why are you so 😎\""
      ],
      "metadata": {
        "id": "ZXV5V-OcwZFw"
      },
      "execution_count": 8,
      "outputs": []
    },
    {
      "cell_type": "code",
      "source": [
        "def converting_emojis(text):\n",
        "    for emot in UNICODE_EMOJI:\n",
        "        text = text.replace(emot, \"_\".join(UNICODE_EMOJI[emot].replace(\",\", \"\").replace(\":\", \"\").split()))\n",
        "    return text\n",
        "\n",
        "text1 =  \"What are you saying 😂. Iam the boss 😎, and why are you so 😎\"\n",
        "converted_text = converting_emojis(text1)\n",
        "print(converted_text)\n"
      ],
      "metadata": {
        "colab": {
          "base_uri": "https://localhost:8080/"
        },
        "id": "Oohd_6EtzYr9",
        "outputId": "7854c8ff-7be8-40e6-f2ac-9768ca64bc37"
      },
      "execution_count": 16,
      "outputs": [
        {
          "output_type": "stream",
          "name": "stdout",
          "text": [
            "What are you saying face_with_tears_of_joy. Iam the boss smiling_face_with_sunglasses, and why are you so smiling_face_with_sunglasses\n"
          ]
        }
      ]
    },
    {
      "cell_type": "code",
      "source": [],
      "metadata": {
        "id": "x-q4Q0A6z4J-"
      },
      "execution_count": null,
      "outputs": []
    }
  ]
}